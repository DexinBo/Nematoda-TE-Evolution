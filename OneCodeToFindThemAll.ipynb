{
 "cells": [
  {
   "cell_type": "markdown",
   "metadata": {},
   "source": [
    "# Assemble RepeatMasker results"
   ]
  },
  {
   "cell_type": "markdown",
   "metadata": {},
   "source": [
    "**Objective**: Assamble overlapping RepeatMasker matches that share similar classifications  \n",
    "**Inputs**: `.out` files from the `RepeatMasker` directory  \n",
    "**Output**: `.transposons`, `.ltr`, `.elem_stored` and `.copynumber` csv files for each contig in each assembly. The `.elem_stored` files will be used downstreem.  \n",
    "**Strategy**: Use OneCodeToFindThemAll [program](http://doua.prabi.fr/software/one-code-to-find-them-all), [citation](http://www.mobilednajournal.com/content/5/1/13) with the 80 80 rule where matches have to be 80% the length and 80% identical. More relaxed filtering makes for many false positives."
   ]
  },
  {
   "cell_type": "code",
   "execution_count": 1,
   "metadata": {
    "collapsed": false
   },
   "outputs": [],
   "source": [
    "import TE, os, glob\n",
    "\n",
    "for code in TE.genome_codes_list('Genomes/', code_file='genome_assembly_files_v3.csv'):\n",
    "    \n",
    "    # Make output directory \n",
    "    if not os.path.exists('OneCodeToFIndThemAll/%s/'%code):\n",
    "        os.mkdir('OneCodeToFIndThemAll/%s/'%code)\n",
    "    \n",
    "    # Check is a .out file exists\n",
    "    if os.path.exists('RepeatMasker/%s/%s_coded.fasta.out'%(code,\n",
    "                                                            TE.genomes_dict('Genomes/',\n",
    "                                                                            code_file='genome_assembly_files_v3.csv')[code])):\n",
    "        # Run the program\n",
    "        TE.run_OneCodeToFindThemAll('RepeatMasker/%s'%code,\n",
    "                                    'OneCodeToFIndThemAll/%s/ltr_dict.txt'%code,\n",
    "                                    'OneCodeToFIndThemAll/%s/output'%code,\n",
    "                                    'Genomes/%s'%TE.genomes_dict('Genomes/',\n",
    "                                                                 code_file='genome_assembly_files_v3.csv')[code],\n",
    "                                    build_dictionary='build_dictionary.pl',\n",
    "                                    octfta='one_code_to_find_them_all.pl')\n",
    "        \n",
    "        # Outputs are written in the same path as the input files.\n",
    "        # Move them to a new location\n",
    "        files = glob.glob('RepeatMasker/%s/*.log.txt'%code)+glob.glob('RepeatMasker/%s/*.csv'%code)\n",
    "        for f in files:\n",
    "            new_file = 'OneCodeToFIndThemAll/%s/%s'%(code,f.split('/')[-1])\n",
    "            os.rename(f, new_file)"
   ]
  }
 ],
 "metadata": {
  "kernelspec": {
   "display_name": "Python 2",
   "language": "python",
   "name": "python2"
  },
  "language_info": {
   "codemirror_mode": {
    "name": "ipython",
    "version": 2
   },
   "file_extension": ".py",
   "mimetype": "text/x-python",
   "name": "python",
   "nbconvert_exporter": "python",
   "pygments_lexer": "ipython2",
   "version": "2.7.6"
  }
 },
 "nbformat": 4,
 "nbformat_minor": 0
}
