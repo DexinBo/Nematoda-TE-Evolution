{
 "cells": [
  {
   "cell_type": "markdown",
   "metadata": {},
   "source": [
    "# RepeatMasker search\n",
    "**Objective**: Perform TE search using homology with reference sequences at the DNA level.  \n",
    "**Inputs**:  \n",
    "\n",
    "1. Genome assembly fasta files from `Genomes/`. The files are not included but indicated in the file `Genomes/genome_assembly_files_v3.csv`, as `++`.\n",
    "2. A Nematoda TE library `Library/Nematoda.lib`\n",
    "**Outputs**: RepeatMasker outputs in the `RepeatMasker` directory. `.out` files will be used downstream.  \n",
    "  \n",
    "**Strategy**:   \n",
    "\n",
    "1. Code contig names because thy are too long for RepeatMasker (`TE.code_sequence_ids()`) and put the codes in `*.coding_log` files.\n",
    "2. Run RepeatMasker with `TE.run_repeat_masker`. The search is permisive but there will be sunsequent result filtering (other notebook):  `./RepeatMasker -cutoff 255 -norna -lib Library/Nematoda.lib -lcambig -no_id -frag 60000 -parallel 6 -excln -alignments <genome assembly>`.  \n",
    "    + `cutoff 255` : permisive score cutoff - the hits are filtered later\n",
    "    + `norna` : small rna is ignored\n",
    "    + `frag 60000` : allow large TEs\n",
    "3. By default, the output files are written to the same directory as the genome assembly so the output is moved to the `RepeatMasker` directory."
   ]
  },
  {
   "cell_type": "code",
   "execution_count": 3,
   "metadata": {
    "collapsed": false
   },
   "outputs": [
    {
     "name": "stdout",
     "output_type": "stream",
     "text": [
      "Hduj\n",
      "/home/amir/homeWork/RM_package/RepeatMasker/RepeatMasker -cutoff 255 -norna -lib Library/Nematoda.lib -lcambig -no_id -frag 60000 -parallel 6 -excln -alignments /media/amir/DATA/work/Dropbox/Genomes/Hypsibius_dujardini_nHd.2.3.abv500.fna_coded.fasta\n",
      "Gros\n",
      "/home/amir/homeWork/RM_package/RepeatMasker/RepeatMasker -cutoff 255 -norna -lib Library/Nematoda.lib -lcambig -no_id -frag 60000 -parallel 6 -excln -alignments /media/amir/DATA/work/Dropbox/Genomes/nGr.v1.1.fa_coded.fasta\n",
      "Mchi\n",
      "/home/amir/homeWork/RM_package/RepeatMasker/RepeatMasker -cutoff 255 -norna -lib Library/Nematoda.lib -lcambig -no_id -frag 60000 -parallel 6 -excln -alignments /media/amir/DATA/work/Dropbox/Genomes/1_uw_chwd.change.a.fasta_coded.fasta\n",
      "Rsim\n",
      "/home/amir/homeWork/RM_package/RepeatMasker/RepeatMasker -cutoff 255 -norna -lib Library/Nematoda.lib -lcambig -no_id -frag 60000 -parallel 6 -excln -alignments /media/amir/DATA/work/Dropbox/Genomes/R_Similis_s_7_1_sequence_paired_assembly.fa_coded.fasta\n",
      "Pcof\n",
      "/home/amir/homeWork/RM_package/RepeatMasker/RepeatMasker -cutoff 255 -norna -lib Library/Nematoda.lib -lcambig -no_id -frag 60000 -parallel 6 -excln -alignments /media/amir/DATA/work/Dropbox/Genomes/Pcoffeae_LargeContigs.fasta_coded.fasta\n",
      "Mjav\n",
      "/home/amir/homeWork/RM_package/RepeatMasker/RepeatMasker -cutoff 255 -norna -lib Library/Nematoda.lib -lcambig -no_id -frag 60000 -parallel 6 -excln -alignments /media/amir/DATA/work/Dropbox/Genomes/Mjav_consensus_contigs_spades.fasta_coded.fasta\n"
     ]
    }
   ],
   "source": [
    "import TE, os\n",
    "from shutil import move\n",
    "\n",
    "genomes_directory = '/media/amir/DATA/work/Dropbox/Genomes/'\n",
    "\n",
    " \n",
    "for code in  TE.genome_codes_list('Genomes/', mode='++',\n",
    "                                  code_file='genome_assembly_files_v3.csv') : \n",
    "\n",
    "#repeat for some newer versions\n",
    "#for code in ['Hduj', 'Gros', 'Mchi', 'Rsim', 'Pcof', 'Mjav']:\n",
    "\n",
    "    print code\n",
    "\n",
    "    # the genome assembly file\n",
    "    query = genomes_directory+TE.genomes_dict('Genomes/', mode='++',\n",
    "                                              code_file='genome_assembly_files_v3.csv')[code]\n",
    "    # the reference library file\n",
    "    lib = 'Library/Nematoda.lib'\n",
    "    \n",
    "    full_path_to_adssembly = genomes_directory+TE.genomes_dict('Genomes/',\n",
    "                                                               mode='+',\n",
    "                                                               code_file='genome_assembly_files_v3.csv')[code]\n",
    "    just_assembly_file = TE.genomes_dict('Genomes/',\n",
    "                                         mode='+',\n",
    "                                         code_file='genome_assembly_files_v3.csv')[code]\n",
    "    \n",
    "    # make short contig names\n",
    "\n",
    "    TE.code_sequence_ids(full_path_to_adssembly,\n",
    "                         full_path_to_adssembly+'_coded.coding_log',\n",
    "                         full_path_to_adssembly+'_coded.fasta',\n",
    "                         code)\n",
    "    \n",
    "    # genome assembly file with coded contig names\n",
    "    query = full_path_to_adssembly +'_coded.fasta'\n",
    "    \n",
    "    # run RepeatMasker\n",
    "    TE.run_repeat_masker(query, species=False, lib = lib, parallel=6)\n",
    "    \n",
    "    # make output directory\n",
    "    if not os.path.exists('RepeatMasker/'+code):\n",
    "        os.mkdir('RepeatMasker/'+code)\n",
    "    \n",
    "    # move the outfile from the genome assembly file directory to the \n",
    "    # RepeatMasker output library\n",
    "    old_outfile_name = full_path_to_adssembly +'_coded.fasta' +'.out'\n",
    "    new_outfile_name = 'RepeatMasker/'+code+'/'+ just_assembly_file +'_coded.fasta' +'.out'\n",
    "    move(old_outfile_name, new_outfile_name)\n",
    "    \n",
    "    old_outfile_name = full_path_to_adssembly +'_coded.fasta' +'.tbl'\n",
    "    new_outfile_name = 'RepeatMasker/'+code+'/'+ just_assembly_file +'_coded.fasta' +'.tbl'\n",
    "    move(old_outfile_name, new_outfile_name)\n",
    "    \n",
    "    old_outfile_name = full_path_to_adssembly +'_coded.coding_log'\n",
    "    new_outfile_name = 'RepeatMasker/'+code+'/'+ just_assembly_file +'_coded.coding_log'\n",
    "    move(old_outfile_name, new_outfile_name)"
   ]
  },
  {
   "cell_type": "code",
   "execution_count": null,
   "metadata": {
    "collapsed": false
   },
   "outputs": [],
   "source": []
  }
 ],
 "metadata": {
  "kernelspec": {
   "display_name": "Python 2",
   "language": "python",
   "name": "python2"
  },
  "language_info": {
   "codemirror_mode": {
    "name": "ipython",
    "version": 2
   },
   "file_extension": ".py",
   "mimetype": "text/x-python",
   "name": "python",
   "nbconvert_exporter": "python",
   "pygments_lexer": "ipython2",
   "version": "2.7.6"
  }
 },
 "nbformat": 4,
 "nbformat_minor": 0
}
