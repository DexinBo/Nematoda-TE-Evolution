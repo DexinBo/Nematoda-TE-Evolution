{
 "cells": [
  {
   "cell_type": "markdown",
   "metadata": {},
   "source": [
    "# TransposonPSI and LTRHarvest\n",
    "**Objective**: Conduct a TE search in alternative approaches to DNA homology.  \n",
    "**Input**: Genome assembly fasta files.  \n",
    "**Outputs**: In `./LTRHarvest` and `/TransposonPSI` directories.  \n",
    "**Strategy**:  \n",
    "\n",
    "+ RNA secondary structure detection (LTRHarvest)\n",
    "+ Protein homology detection (TransposonPSI)"
   ]
  },
  {
   "cell_type": "code",
   "execution_count": null,
   "metadata": {
    "collapsed": false
   },
   "outputs": [],
   "source": [
    "import TE, os\n",
    "from shutil import move\n",
    "from glob import glob\n",
    "\n",
    "genomes_directory = '/media/amir/DATA/work/Dropbox/Genomes/'\n",
    "\n",
    "for code in TE.genome_codes_list('Genomes/', mode='++',\n",
    "                                 code_file='genome_assembly_files_v3.csv'):\n",
    "    \n",
    "    # Make a directory for TransposonPSI output\n",
    "    if not os.path.exists('TransposonPSI/%s'%code):\n",
    "        os.mkdir('TransposonPSI/%s'%code)\n",
    "     \n",
    "    # Make a directory for LTRHarvest output\n",
    "    if not os.path.exists('LTRHarvest/%s'%code):\n",
    "        os.mkdir('LTRHarvest/%s'%code)\n",
    "    \n",
    "    assembly_file = TE.genomes_dict('Genomes/', mode='++',\n",
    "                                    code_file='genome_assembly_files_v3.csv')[code]\n",
    "    \n",
    "    # TransposonPSI\n",
    "    TE.run_TransposonPSI(genomes_directory+assembly_file+'_coded.fasta')\n",
    "    \n",
    "    # Move the output from the genome directory to the TransposonPSI directory\n",
    "    old_path = genomes_directory+'%s_coded.fasta.TPSI.allHits.chains.bestPerLocus'%assembly_file\n",
    "    new_path = 'TransposonPSI/%s/%s_coded.fasta.TPSI.allHits.chains.bestPerLocus'%(code,\n",
    "                                                                                   assembly_file)\n",
    "    move(old_path, new_path)\n",
    "    move(old_path+'.gff3', new_path+'.gff3')\n",
    "    \n",
    "    # LTRHarvest\n",
    "    TE.run_LTRharvest(genomes_directory+assembly_file+'_coded.fasta',\n",
    "                      'LTRHarvest/'+code+'/'+code+'_ltrharvest.index',\n",
    "                      'LTRHarvest/'+code+'/'+code+'_ltrharvest.output')\n",
    "    \n",
    "    # Delete intermediate files\n",
    "    index_files = glob('LTRHarvest/'+code+'/'+code+'_ltrharvest.index.*')\n",
    "    for f in index_files:\n",
    "        os.remove(f)\n",
    "                      "
   ]
  }
 ],
 "metadata": {
  "kernelspec": {
   "display_name": "Python 2",
   "language": "python",
   "name": "python2"
  },
  "language_info": {
   "codemirror_mode": {
    "name": "ipython",
    "version": 2
   },
   "file_extension": ".py",
   "mimetype": "text/x-python",
   "name": "python",
   "nbconvert_exporter": "python",
   "pygments_lexer": "ipython2",
   "version": "2.7.6"
  }
 },
 "nbformat": 4,
 "nbformat_minor": 0
}
