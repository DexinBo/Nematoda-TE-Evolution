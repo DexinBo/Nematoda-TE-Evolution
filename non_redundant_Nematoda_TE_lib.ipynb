{
 "cells": [
  {
   "cell_type": "markdown",
   "metadata": {},
   "source": [
    "# Build a nonoredundant library of classified Nematoda transposable elements\n",
    "**Objective**: Build a fasta file of non redundant TEs from all of Nematoda  \n",
    "**Input**: Denovo libs for the individual species built with RepeatModeler and classified with RepeatMasker  \n",
    "**Output**: A single non-redundant Nematoda TEs library file formated for RepeatMasker   \n",
    "**Strategy**:   \n",
    "\n",
    "1. Concatenate all the individual libraries \n",
    "2. Make 80% identity clusters with usearch and collect centroid sequences\n",
    "3. Classify unclassified centroid sequences with online Cencor"
   ]
  },
  {
   "cell_type": "code",
   "execution_count": 1,
   "metadata": {
    "collapsed": false
   },
   "outputs": [],
   "source": [
    "import TE, os\n",
    "from Bio import SeqIO\n",
    "from random import shuffle\n",
    "from glob import glob"
   ]
  },
  {
   "cell_type": "markdown",
   "metadata": {},
   "source": [
    "## Concatenate the *denovo* libs of all the speices"
   ]
  },
  {
   "cell_type": "code",
   "execution_count": 4,
   "metadata": {
    "collapsed": false
   },
   "outputs": [],
   "source": [
    "# Make a list of denove lib files\n",
    "infiles = ['RepeatModeler/%s/consensi.fa.classified'%i \n",
    "           for i in TE.genome_codes_list('Genomes/', mode='++', code_file='genome_assembly_files_v3.csv')] \n",
    "\n",
    "\n",
    "redundant_lib_filname = 'Library/redundant_nematoda_lib'\n",
    "\n",
    "# Concatenate the files\n",
    "hndl = open(redundant_lib_filname,'wt')\n",
    "for i in infiles:\n",
    "    # To keep seq ids unique, we add the genome code\n",
    "    code = i.split('/')[-2]\n",
    "    records = list(SeqIO.parse(i,'fasta'))\n",
    "    for r in records:\n",
    "        r.id = \"%s_%s\"%(code,r.id)\n",
    "    # write the file with the modified ids    \n",
    "    SeqIO.write(records,'temp','fasta')\n",
    "    # append it to the redundant lib\n",
    "    hndl.write(\"%s\\n\"%open('temp','r').read())\n",
    "    os.remove('temp')\n",
    "hndl.close()\n",
    "\n"
   ]
  },
  {
   "cell_type": "markdown",
   "metadata": {},
   "source": [
    "## Make a nono-redundant library\n",
    "1. Sort the sequences by length\n",
    "2. Cluster into 80% identity clusters.\n",
    "3. Put the centroid sequence of each cluster in the non-redundant library file `Library/non_redundant_non_classified`. This file will have only the classifications made by RepeatMasker in the RepeatModeler pipeline."
   ]
  },
  {
   "cell_type": "code",
   "execution_count": 5,
   "metadata": {
    "collapsed": false
   },
   "outputs": [
    {
     "data": {
      "text/plain": [
       "'Library/non_redundant_non_classified'"
      ]
     },
     "execution_count": 5,
     "metadata": {},
     "output_type": "execute_result"
    }
   ],
   "source": [
    "# make sure to clean previous usearch runs\n",
    "os.remove('seqs_sorted.fasta')\n",
    "os.remove('results.uc')\n",
    "os.remove('results.fasta')\n",
    "\n",
    "TE.make_non_redundant_lib(redundant_lib_filname,\n",
    "                          'Library/non_redundant_non_classified',\n",
    "                          cluster_identity=0.8)"
   ]
  },
  {
   "cell_type": "code",
   "execution_count": 6,
   "metadata": {
    "collapsed": false
   },
   "outputs": [
    {
     "name": "stdout",
     "output_type": "stream",
     "text": [
      "26163\r\n"
     ]
    }
   ],
   "source": [
    "# How many cumulative families in all the lib files?\n",
    "! grep -c \">\" 'Library/redundant_nematoda_lib'"
   ]
  },
  {
   "cell_type": "code",
   "execution_count": 7,
   "metadata": {
    "collapsed": false
   },
   "outputs": [
    {
     "name": "stdout",
     "output_type": "stream",
     "text": [
      "19873\r\n"
     ]
    }
   ],
   "source": [
    "# How many in the non-redundant file\n",
    "! grep -c \">\" 'Library/non_redundant_non_classified'"
   ]
  },
  {
   "cell_type": "markdown",
   "metadata": {},
   "source": [
    "A large proportion of multicopy TE families are found in a single nematode species (76%). They can still be present in other species, but not be detected by RepeatModeler because they are low copy number there."
   ]
  },
  {
   "cell_type": "markdown",
   "metadata": {},
   "source": [
    "## Split the library to < 2mb chunks for online [censor](http://www.girinst.org/censor/)"
   ]
  },
  {
   "cell_type": "code",
   "execution_count": 10,
   "metadata": {
    "collapsed": false
   },
   "outputs": [],
   "source": [
    "records = list(SeqIO.parse('Library/non_redundant_non_classified',\n",
    "                           'fasta'))\n",
    "\n",
    "shuffle(records) # so that the chunks are the same size\n",
    "i = 0\n",
    "while records:\n",
    "    if len(records) > 1790:\n",
    "        SeqIO.write(records[:1790],\"Library/p%i\"%i,'fasta')\n",
    "        records = records[1790:]\n",
    "        i += 1\n",
    "    else:\n",
    "        SeqIO.write(records,\"Library/p%i\"%i,'fasta')\n",
    "        i += 1\n",
    "        records = None"
   ]
  },
  {
   "cell_type": "markdown",
   "metadata": {},
   "source": [
    "##[Censor](http://www.girinst.org/censor/) run\n",
    "**Inputs**:files `p0`-`p11` in `Library`  \n",
    "**Outputs**: files `Censor_results0`-`Censor_results11` in `Library`  \n",
    "Default setting"
   ]
  },
  {
   "cell_type": "markdown",
   "metadata": {},
   "source": [
    "## Parse the Censor output files"
   ]
  },
  {
   "cell_type": "code",
   "execution_count": 14,
   "metadata": {
    "collapsed": false
   },
   "outputs": [],
   "source": [
    "censor_classification = {}\n",
    "for f in glob('Library/Censor_results*'):\n",
    "    censor_classification.update(TE.parse_online_censor(f, 0.8, 300))"
   ]
  },
  {
   "cell_type": "markdown",
   "metadata": {},
   "source": [
    "## Add superfamily classifiactions from Censor to unclassified centroid sequences"
   ]
  },
  {
   "cell_type": "code",
   "execution_count": 15,
   "metadata": {
    "collapsed": false
   },
   "outputs": [],
   "source": [
    "TE.put_censor_classification_in_repeatmodeler_lib('Library/non_redundant_non_classified',\n",
    "                                                  censor_classification,\n",
    "                                                  'Library/Nematoda.lib')"
   ]
  },
  {
   "cell_type": "markdown",
   "metadata": {},
   "source": [
    "## Write the Censor results to a file"
   ]
  },
  {
   "cell_type": "code",
   "execution_count": 13,
   "metadata": {
    "collapsed": false
   },
   "outputs": [],
   "source": [
    "TE.print_online_censor(censor_classification, 'Library/censor_results_kept')"
   ]
  }
 ],
 "metadata": {
  "kernelspec": {
   "display_name": "Python 2",
   "language": "python",
   "name": "python2"
  },
  "language_info": {
   "codemirror_mode": {
    "name": "ipython",
    "version": 2
   },
   "file_extension": ".py",
   "mimetype": "text/x-python",
   "name": "python",
   "nbconvert_exporter": "python",
   "pygments_lexer": "ipython2",
   "version": "2.7.6"
  }
 },
 "nbformat": 4,
 "nbformat_minor": 0
}
