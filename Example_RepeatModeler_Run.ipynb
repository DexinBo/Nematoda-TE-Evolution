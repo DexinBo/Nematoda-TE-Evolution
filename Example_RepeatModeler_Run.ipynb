{
 "cells": [
  {
   "cell_type": "markdown",
   "metadata": {},
   "source": [
    "# Example of denovo TE library creation, *Caenorhabditis japonica*"
   ]
  },
  {
   "cell_type": "code",
   "execution_count": 3,
   "metadata": {
    "collapsed": false
   },
   "outputs": [
    {
     "name": "stdout",
     "output_type": "stream",
     "text": [
      "/home/generic/RM_package/RepeatModeler/BuildDatabase -engine ncbi -name Cjap /media/generic/DATA/Amir_RM/Genomes/c_japonica.PRJNA12591.WS238.genomic.fa\n",
      "perl /home/generic/RM_package/RepeatModeler/RepeatModeler -engine ncbi -database Cjap > Cjap.out\n"
     ]
    },
    {
     "data": {
      "text/plain": [
       "0"
      ]
     },
     "execution_count": 3,
     "metadata": {},
     "output_type": "execute_result"
    }
   ],
   "source": [
    "import TE\n",
    "\n",
    "genomes_path = 'Genomes/'\n",
    "genome_assemgly = 'c_japonica.PRJNA12591.WS238.genomic.fa'\n",
    "genome = genomes_path+genome_assemgly\n",
    "name = 'Cjap'\n",
    "\n",
    "TE.make_repeatmodeler_database(name=name,\n",
    "                               input_filename=genome,\n",
    "                               BuildDatabase=\\\n",
    "                               '/home/generic/RM_package/RepeatModeler/BuildDatabase')\n",
    "TE.run_repeatmodeler(database=name,\n",
    "                     RepeatModeler=\\\n",
    "                     'perl /home/generic/RM_package/RepeatModeler/RepeatModeler') \n",
    "\n"
   ]
  },
  {
   "cell_type": "markdown",
   "metadata": {},
   "source": [
    "Move the file `consensi.fa.classified` to `RepeatModeler/Cjap`"
   ]
  }
 ],
 "metadata": {
  "kernelspec": {
   "display_name": "Python 2",
   "language": "python",
   "name": "python2"
  },
  "language_info": {
   "codemirror_mode": {
    "name": "ipython",
    "version": 2
   },
   "file_extension": ".py",
   "mimetype": "text/x-python",
   "name": "python",
   "nbconvert_exporter": "python",
   "pygments_lexer": "ipython2",
   "version": "2.7.6"
  }
 },
 "nbformat": 4,
 "nbformat_minor": 0
}
