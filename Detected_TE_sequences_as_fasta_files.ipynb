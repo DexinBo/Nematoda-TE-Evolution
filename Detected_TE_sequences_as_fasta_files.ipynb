{
 "cells": [
  {
   "cell_type": "markdown",
   "metadata": {},
   "source": [
    "# Usfull fasta files of all the detected TEs after filteration\n",
    "1. Fasta file for each nematode species in `TE_sequences_by_nematode_species`\n",
    "2. Fasta file for each TE superfamily in `TE_sequences_by_TE_superfamily`"
   ]
  },
  {
   "cell_type": "code",
   "execution_count": 43,
   "metadata": {
    "collapsed": false
   },
   "outputs": [],
   "source": [
    "import TE, pickle, os\n",
    "from Bio import SeqIO\n",
    "\n",
    "codes_in_final_data = \\\n",
    "['Rcul','Tspi','Ttri','Tmur','Ebre','Avit','Asuu','Bmal','Dimm','Lsig',\n",
    " 'Lloa','Ovol','Smur','Wban','Bxyl','Gpal','Gros','Mchi','Mhap','Mflo',\n",
    " 'Minc','Pred','Ptri','Pcof','Rsim','Spap','Srat','Sven','Hduj','Crem',\n",
    " 'Cele','C11sp','briC','C5sp','Cang','Cjap','Cbre','Dviv','Hcon','Hbac',\n",
    " 'Otip','Ppac',\n",
    "]\n",
    "\n",
    "assembly_fname = \\\n",
    "TE.genomes_dict('./Genomes/', code_file='genome_assembly_files_v3.csv')\n",
    "\n",
    "assemblies_dir = '../../Genomes/'"
   ]
  },
  {
   "cell_type": "markdown",
   "metadata": {},
   "source": [
    "Here I make a dictionary of decoded contig names. The contig names in the TEs dictionary are coded because I had to shorten them for RepeatMasker"
   ]
  },
  {
   "cell_type": "code",
   "execution_count": null,
   "metadata": {
    "collapsed": false
   },
   "outputs": [],
   "source": [
    "contig_ids = {}\n",
    "\n",
    "for code in assembly_fname:\n",
    "    contig_ids[assembly_fname[code]] = {}\n",
    "    \n",
    "    log_file = assemblies_dir+assembly_fname[code]+'.log'\n",
    "    coded_assembly = assemblies_dir+assembly_fname[code]+'.coded'\n",
    "\n",
    "    TE.code_sequence_ids(assemblies_dir+assembly_fname[code],\n",
    "                         log_file,\n",
    "                         coded_assembly,\n",
    "                         code)\n",
    "    \n",
    "    lines =  open(log_file,'r').read().split('\\\\n')\n",
    "    \n",
    "    for l in lines:\n",
    "        if not '\\\\t' in l:\n",
    "            continue\n",
    "        coded, real = l.rstrip().split('\\\\t')\n",
    "        contig_ids[assembly_fname[code]][coded] = real"
   ]
  },
  {
   "cell_type": "markdown",
   "metadata": {},
   "source": [
    "Read the TEs dictionary"
   ]
  },
  {
   "cell_type": "code",
   "execution_count": 31,
   "metadata": {
    "collapsed": false
   },
   "outputs": [],
   "source": [
    "hndl = open('TE_counts/TEs.pkl','rb')\n",
    "TEs = pickle.load(hndl)\n",
    "hndl.close()"
   ]
  },
  {
   "cell_type": "markdown",
   "metadata": {},
   "source": [
    "Make fasta directories"
   ]
  },
  {
   "cell_type": "code",
   "execution_count": 59,
   "metadata": {
    "collapsed": true
   },
   "outputs": [],
   "source": [
    "if not os.path.exists('TE_sequences_by_nematode_species'):\n",
    "    os.mkdir('TE_sequences_by_nematode_species')\n",
    "if not os.path.exists('TE_sequences_by_TE_superfamily'):\n",
    "    os.mkdir('TE_sequences_by_TE_superfamily')"
   ]
  },
  {
   "cell_type": "markdown",
   "metadata": {},
   "source": [
    "This is how an entry looks like for each TE in the TEs dictionary. We only bother with `taken` TEs (ones that passed the various filters)"
   ]
  },
  {
   "cell_type": "code",
   "execution_count": 32,
   "metadata": {
    "collapsed": false
   },
   "outputs": [
    {
     "data": {
      "text/plain": [
       "{'contig': 'Ovol_10',\n",
       " 'end': 107,\n",
       " 'higher_tx_level': 'DNA/Helitron',\n",
       " 'length': 94,\n",
       " 'lower_tx_level': 'OOCH_RND-3_FAMILY-49',\n",
       " 'ref': {'program': 'RMOCFA',\n",
       "  'record': '###667\\t12.8\\t0.0\\t0.0\\tOvol_10\\t14\\t107\\t94\\tC\\tOOCH_RND-3_FAMILY-49\\tDNA/RC\\t(1191)\\t1123\\t1030\\t\\t1\\t0.041\\n'},\n",
       " 'start': 14}"
      ]
     },
     "execution_count": 32,
     "metadata": {},
     "output_type": "execute_result"
    }
   ],
   "source": [
    "TEs['Ovol']['taken']['element1']"
   ]
  },
  {
   "cell_type": "markdown",
   "metadata": {},
   "source": [
    "Write fasta files:"
   ]
  },
  {
   "cell_type": "code",
   "execution_count": 60,
   "metadata": {
    "collapsed": false
   },
   "outputs": [],
   "source": [
    "for code in codes_in_final_data:\n",
    "    \n",
    "    # open a fasta file for the speices\n",
    "    hndl = open('TE_sequences_by_nematode_species/{code}.fasta'.format(code=code),'wt')\n",
    "    \n",
    "    # make a fasta formated string for each entry in the TEs dictionary\n",
    "    assembly_name = assembly_fname[code]\n",
    "    assembly_fpath = assemblies_dir + assembly_name\n",
    "    contigs = SeqIO.to_dict(SeqIO.parse(assembly_fpath, 'fasta'))\n",
    "    code_TEs = TEs[code]['taken']\n",
    "    for el in code_TEs:\n",
    "        te = code_TEs[el]\n",
    "        contig = contig_ids[assembly_name][te['contig']]\n",
    "        start = int(te['start'])\n",
    "        end = int(te['end'])\n",
    "        taxonomy = te['higher_tx_level']\n",
    "        if not 'element' in te['lower_tx_level']:\n",
    "            taxonomy += '/' + te['lower_tx_level']\n",
    "        program = te['ref']['program']\n",
    "        record = te['ref']['record']\n",
    "        seq = str(contigs[contig].seq[start:end])\n",
    "        title = \"{el} {taxonomy}|{assembly_name}|{contig}|{start}|{end}|{program}|{record}\"\n",
    "        fasta = title.format(el=el,\n",
    "                            taxonomy=taxonomy,\n",
    "                            assembly_name=assembly_name,\n",
    "                            contig=contig,\n",
    "                            start=start,\n",
    "                            end=end,\n",
    "                            program=program,\n",
    "                            record=record).rstrip()\n",
    "        fasta += '\\n{seq}\\n'.format(seq=seq)\n",
    "        \n",
    "        # Write the fasta entry to the nematode species file\n",
    "        hndl.write('>'+fasta)\n",
    "        \n",
    "        # allso append the fasta entry to the TE superfamily file\n",
    "        te_fname = te['higher_tx_level'].replace('/','_')\n",
    "        with open('TE_sequences_by_TE_superfamily/{0}.fasta'.format(te_fname),'a') as tehndl:\n",
    "            tehndl.write('>'+code+'|'+fasta)\n",
    "        \n",
    "    hndl.close()\n",
    "        \n",
    "        \n",
    "        "
   ]
  },
  {
   "cell_type": "code",
   "execution_count": null,
   "metadata": {
    "collapsed": true
   },
   "outputs": [],
   "source": []
  }
 ],
 "metadata": {
  "kernelspec": {
   "display_name": "Python 2",
   "language": "python",
   "name": "python2"
  },
  "language_info": {
   "codemirror_mode": {
    "name": "ipython",
    "version": 2
   },
   "file_extension": ".py",
   "mimetype": "text/x-python",
   "name": "python",
   "nbconvert_exporter": "python",
   "pygments_lexer": "ipython2",
   "version": "2.7.6"
  }
 },
 "nbformat": 4,
 "nbformat_minor": 0
}
